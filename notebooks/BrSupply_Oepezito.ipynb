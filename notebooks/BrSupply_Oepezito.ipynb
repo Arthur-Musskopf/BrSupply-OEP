{
 "cells": [
  {
   "cell_type": "code",
   "execution_count": 2,
   "id": "5b5b1efd",
   "metadata": {},
   "outputs": [
    {
     "name": "stderr",
     "output_type": "stream",
     "text": [
      "c:\\Users\\arthu\\OneDrive\\Área de Trabalho\\BrSupplAI-SAC\\.venv\\Lib\\site-packages\\tqdm\\auto.py:21: TqdmWarning: IProgress not found. Please update jupyter and ipywidgets. See https://ipywidgets.readthedocs.io/en/stable/user_install.html\n",
      "  from .autonotebook import tqdm as notebook_tqdm\n"
     ]
    }
   ],
   "source": [
    "import os\n",
    "import fitz\n",
    "from dotenv import load_dotenv\n",
    "from langchain_openai import OpenAIEmbeddings\n",
    "from langchain_pinecone import PineconeVectorStore\n",
    "from langchain_core.documents import Document\n",
    "from langchain_text_splitters import RecursiveCharacterTextSplitter\n",
    "from pinecone import Pinecone\n",
    "from tqdm.notebook import tqdm\n",
    "\n",
    "# Carregar variáveis\n",
    "load_dotenv()\n",
    "PINECONE_API_KEY = os.getenv(\"PINECONE_API_KEY\")\n",
    "PINECONE_ENV = os.getenv(\"PINECONE_ENV\")\n",
    "INDEX_NAME = \"brsupply-sac-agent\"\n",
    "NAMESPACE = \"documentos-informativos\"\n"
   ]
  },
  {
   "cell_type": "code",
   "execution_count": 8,
   "id": "f52a0373",
   "metadata": {},
   "outputs": [],
   "source": [
    "def extract_text_from_pdf(pdf_path):\n",
    "    doc = fitz.open(pdf_path)\n",
    "    return \"\\n\".join([page.get_text() for page in doc])\n",
    "\n",
    "def chunk_text_into_docs(text, source_name, chunk_size=512, chunk_overlap=80):\n",
    "    splitter = RecursiveCharacterTextSplitter(chunk_size=chunk_size, chunk_overlap=chunk_overlap)\n",
    "    chunks = splitter.split_text(text)\n",
    "    return [\n",
    "        Document(page_content=chunk, metadata={\"source\": source_name})\n",
    "        for chunk in chunks\n",
    "    ]\n"
   ]
  },
  {
   "cell_type": "code",
   "execution_count": 9,
   "id": "f98a45b9",
   "metadata": {},
   "outputs": [
    {
     "name": "stderr",
     "output_type": "stream",
     "text": [
      "\n",
      "\n",
      "\u001b[A\u001b[A\n",
      "\n",
      "\u001b[A\u001b[A"
     ]
    },
    {
     "name": "stdout",
     "output_type": "stream",
     "text": [
      "📄 Processando: Criação de Usuários.pdf\n",
      "📄 Processando: Dados-Cadastrais-BRS-SA.pdf\n",
      "📄 Processando: Manual - Supply Manager (portal de compras).pdf\n",
      "📄 Processando: Manual Criação de Conta e Subconta.pdf\n",
      "📄 Processando: Manual do Usuário.pdf\n"
     ]
    },
    {
     "name": "stderr",
     "output_type": "stream",
     "text": [
      "\n",
      "\n",
      "100%|██████████| 6/6 [00:00<00:00, 15.55it/s]"
     ]
    },
    {
     "name": "stdout",
     "output_type": "stream",
     "text": [
      "📄 Processando: Meu Mix - Catálogo Completo.pdf\n",
      "Total de chunks gerados: 624\n"
     ]
    },
    {
     "name": "stderr",
     "output_type": "stream",
     "text": [
      "\n"
     ]
    }
   ],
   "source": [
    "from tqdm import tqdm  # Corrigido\n",
    "\n",
    "pdf_dir = \"data/raw/PDF\"\n",
    "all_docs = []\n",
    "\n",
    "for filename in tqdm(os.listdir(pdf_dir)):\n",
    "    if filename.endswith(\".pdf\"):\n",
    "        path = os.path.join(pdf_dir, filename)\n",
    "        print(f\"📄 Processando: {filename}\")\n",
    "        raw_text = extract_text_from_pdf(path)\n",
    "        docs = chunk_text_into_docs(raw_text, source_name=filename)\n",
    "        all_docs.extend(docs)\n",
    "\n",
    "print(f\"Total de chunks gerados: {len(all_docs)}\")\n"
   ]
  },
  {
   "cell_type": "code",
   "execution_count": 10,
   "id": "a543c033",
   "metadata": {},
   "outputs": [],
   "source": [
    "pc = Pinecone(api_key=PINECONE_API_KEY)\n",
    "index = pc.Index(INDEX_NAME)\n",
    "embeddings = OpenAIEmbeddings(model=\"text-embedding-3-large\")\n"
   ]
  },
  {
   "cell_type": "code",
   "execution_count": 13,
   "id": "b79f65f2",
   "metadata": {},
   "outputs": [
    {
     "name": "stderr",
     "output_type": "stream",
     "text": [
      "🔁 Indexando em batches: 100%|██████████| 63/63 [02:08<00:00,  2.04s/it]\n"
     ]
    }
   ],
   "source": [
    "from langchain_pinecone import PineconeVectorStore\n",
    "from langchain_openai import OpenAIEmbeddings\n",
    "import time\n",
    "\n",
    "BATCH_SIZE = 10  # mais seguro, evita ultrapassar 4MB por chamada\n",
    "embedding_model = OpenAIEmbeddings(model=\"text-embedding-3-large\")\n",
    "vectorstore = PineconeVectorStore(\n",
    "    index_name=INDEX_NAME,\n",
    "    embedding=embedding_model,\n",
    "    namespace=NAMESPACE\n",
    ")\n",
    "\n",
    "for i in tqdm(range(0, len(all_docs), BATCH_SIZE), desc=\"🔁 Indexando em batches\"):\n",
    "    batch = all_docs[i:i + BATCH_SIZE]\n",
    "    try:\n",
    "        vectorstore.add_documents(batch)\n",
    "    except Exception as e:\n",
    "        print(f\"❌ Erro no batch {i}–{i+BATCH_SIZE}: {e}\")\n",
    "        time.sleep(1)  # opcional: pausa em caso de erro\n"
   ]
  },
  {
   "cell_type": "code",
   "execution_count": 14,
   "id": "91dc2c6d",
   "metadata": {},
   "outputs": [],
   "source": [
    "import os\n",
    "import pandas as pd\n",
    "import joblib\n",
    "\n",
    "DATA_DIR = \"data/raw/CSV\"\n",
    "CACHE_FILE = \"data/processed/dataframes_cache.pkl\"\n",
    "\n",
    "def carregar_arquivos_csv():\n",
    "    dataframes = {}\n",
    "    for filename in os.listdir(DATA_DIR):\n",
    "        if filename.endswith(\".csv\"):\n",
    "            nome_df = filename.replace(\".csv\", \"\").lower()\n",
    "            df = pd.read_csv(os.path.join(DATA_DIR, filename), encoding=\"utf-8\")\n",
    "            dataframes[nome_df] = df\n",
    "    return dataframes\n",
    "\n",
    "def salvar_cache(dataframes):\n",
    "    os.makedirs(\"data/processed\", exist_ok=True)\n",
    "    joblib.dump(dataframes, CACHE_FILE)\n",
    "\n",
    "def carregar_cache():\n",
    "    if os.path.exists(CACHE_FILE):\n",
    "        return joblib.load(CACHE_FILE)\n",
    "    return None\n",
    "\n",
    "def obter_dataframes():\n",
    "    cache = carregar_cache()\n",
    "    if cache:\n",
    "        return cache\n",
    "    dfs = carregar_arquivos_csv()\n",
    "    salvar_cache(dfs)\n",
    "    return dfs\n"
   ]
  },
  {
   "cell_type": "code",
   "execution_count": 15,
   "id": "7da569fe",
   "metadata": {},
   "outputs": [],
   "source": [
    "def validar_usuario(login_digitado: str, df_usuarios: pd.DataFrame) -> bool:\n",
    "    logins_validos = df_usuarios[\"Login\"].astype(str).tolist()\n",
    "    return login_digitado in logins_validos\n"
   ]
  },
  {
   "cell_type": "code",
   "execution_count": 22,
   "id": "3f6ab5dc",
   "metadata": {},
   "outputs": [
    {
     "name": "stdout",
     "output_type": "stream",
     "text": [
      "❌ Acesso negado. Contate o Gerente de Atendimento ao Cliente, Renan Oliveira, em renan.oliveira@brsupply.com.br\n"
     ]
    }
   ],
   "source": [
    "dfs = obter_dataframes()\n",
    "df_usuarios = dfs[\"usuarios\"]\n",
    "\n",
    "login = \"246738\"\n",
    "login_formatado = login.strip().zfill(11)\n",
    "\n",
    "if validar_usuario(login_formatado, df_usuarios):\n",
    "    print(\"✅ Acesso autorizado\")\n",
    "else:\n",
    "    print(\"❌ Acesso negado. Contate o Gerente de Atendimento ao Cliente, Renan Oliveira, em renan.oliveira@brsupply.com.br\")\n"
   ]
  },
  {
   "cell_type": "code",
   "execution_count": 25,
   "id": "55189d37",
   "metadata": {},
   "outputs": [],
   "source": [
    "from langchain_openai import ChatOpenAI\n",
    "from langchain_pinecone import PineconeVectorStore\n",
    "from langchain.chains import ConversationalRetrievalChain\n",
    "from langchain.memory import ConversationBufferMemory\n",
    "from dotenv import load_dotenv\n",
    "from langchain_openai import OpenAIEmbeddings\n",
    "\n",
    "load_dotenv()\n",
    "\n",
    "llm = ChatOpenAI(model=\"gpt-4o\", temperature=0)\n",
    "embeddings = OpenAIEmbeddings(model=\"text-embedding-3-large\")\n",
    "\n",
    "retriever = PineconeVectorStore.from_existing_index(\n",
    "    index_name=\"brsupply-sac-agent\",\n",
    "    embedding=embeddings,  # ✅ CORRETO\n",
    "    namespace=\"documentos-informativos\"\n",
    ").as_retriever()\n",
    "\n",
    "memory = ConversationBufferMemory(\n",
    "    memory_key=\"chat_history\",\n",
    "    return_messages=True\n",
    ")\n",
    "\n",
    "rag_chain = ConversationalRetrievalChain.from_llm(\n",
    "    llm=llm,\n",
    "    retriever=retriever,\n",
    "    memory=memory\n",
    ")\n"
   ]
  },
  {
   "cell_type": "code",
   "execution_count": 30,
   "id": "ce4722f3",
   "metadata": {},
   "outputs": [],
   "source": [
    "agent = create_pandas_dataframe_agent(\n",
    "    llm=llm,\n",
    "    df=dfs[\"pedidos_detalhados\"],\n",
    "    verbose=True,\n",
    "    allow_dangerous_code=True\n",
    ")\n"
   ]
  },
  {
   "cell_type": "code",
   "execution_count": 33,
   "id": "98b24a46",
   "metadata": {},
   "outputs": [
    {
     "name": "stdout",
     "output_type": "stream",
     "text": [
      "\n",
      "\n",
      "\u001b[1m> Entering new AgentExecutor chain...\u001b[0m\n",
      "\u001b[32;1m\u001b[1;3mThought: To find out how many orders were made in March and the total value, I need to filter the dataframe for orders made in March and then sum the 'Valor Total' for those orders. I will first convert the 'Data Pedido' column to a datetime format to facilitate filtering by month.\n",
      "\n",
      "Action: python_repl_ast\n",
      "Action Input: \n",
      "```python\n",
      "import pandas as pd\n",
      "\n",
      "# Convert 'Data Pedido' to datetime\n",
      "df['Data Pedido'] = pd.to_datetime(df['Data Pedido'], format='%d/%m/%Y %H:%M')\n",
      "\n",
      "# Filter for orders made in March\n",
      "march_orders = df[df['Data Pedido'].dt.month == 3]\n",
      "\n",
      "# Count the number of orders and sum the 'Valor Total'\n",
      "num_orders_march = march_orders['Pedido'].nunique()\n",
      "total_value_march = march_orders['Valor Total'].replace({'R$ ': '', '.': '', ',': '.'}, regex=True).astype(float).sum()\n",
      "\n",
      "num_orders_march, total_value_march\n",
      "```\u001b[0m\u001b[36;1m\u001b[1;3mValueError: could not convert string to float: ''\u001b[0m\u001b[32;1m\u001b[1;3mIt seems there is an issue with converting the 'Valor Total' column to a float. This could be due to some missing or improperly formatted values. I will first inspect the 'Valor Total' column to identify any problematic entries.\n",
      "\n",
      "Action: python_repl_ast\n",
      "Action Input: \n",
      "```python\n",
      "# Check for any non-numeric values in 'Valor Total'\n",
      "df['Valor Total'].unique()\n",
      "```\u001b[0m\u001b[36;1m\u001b[1;3m['R$ 105,52' 'R$ 333,44' 'R$ 69,00' 'R$ 206,88' 'R$ 49,20' 'R$ 108,30'\n",
      " 'R$ 78,18' 'R$ 77,44' 'R$ 77,88' 'R$ 89,80' 'R$ 84,00' 'R$ 613,60'\n",
      " 'R$ 48,16' 'R$ 11,21' 'R$ 64,83' 'R$ 1.074,00' 'R$ 132,80' 'R$ 160,20'\n",
      " 'R$ 319,68' 'R$ 24,68' 'R$ 43,36' 'R$ 92,20' 'R$ 287,50' 'R$ 143,64'\n",
      " 'R$ 195,52' 'R$ 121,20' 'R$ 292,40' 'R$ 93,60' 'R$ 45,80' 'R$ 1.579,20'\n",
      " 'R$ 237,10' 'R$ 5.463,36' 'R$ 274,32' 'R$ 19,59' 'R$ 12,42' 'R$ 373,25'\n",
      " 'R$ 658,50' 'R$ 331,92' 'R$ 481,00' 'R$ 134,26' 'R$ 65,30' 'R$ 120,40'\n",
      " 'R$ 412,40' 'R$ 143,00' 'R$ 268,40' 'R$ 278,40' 'R$ 294,48' 'R$ 683,10'\n",
      " 'R$ 267,30' 'R$ 463,25' 'R$ 3.948,00' 'R$ 58,00' 'R$ 85,90' 'R$ 146,10'\n",
      " 'R$ 725,40' 'R$ 242,60' 'R$ 767,00' 'R$ 36,60' 'R$ 157,86' 'R$ 26,38'\n",
      " 'R$ 111,84' 'R$ 62,19' 'R$ 171,42' 'R$ 69,96' 'R$ 92,05' 'R$ 279,74'\n",
      " 'R$ 38,29' 'R$ 109,82' 'R$ 163,48' 'R$ 1.288,80' 'R$ 55,60' 'R$ 139,00'\n",
      " 'R$ 41,84' 'R$ 18,00' 'R$ 26,88' 'R$ 178,79' 'R$ 115,60' 'R$ 38,10'\n",
      " 'R$ 20,54' 'R$ 69,76' 'R$ 181,77' 'R$ 94,56' 'R$ 162,24' 'R$ 94,74'\n",
      " 'R$ 111,36' 'R$ 172,80' 'R$ 88,16' 'R$ 100,62' 'R$ 55,68' 'R$ 11,42'\n",
      " 'R$ 716,00' 'R$ 199,20' 'R$ 153,40' 'R$ 2.303,85' 'R$ 1.790,00'\n",
      " 'R$ 2.428,00' 'R$ 205,44' 'R$ 944,40' 'R$ 331,80' 'R$ 525,60' 'R$ 8,66'\n",
      " 'R$ 1.277,75' 'R$ 1.022,20' 'R$ 332,00' 'R$ 41,35' 'R$ 181,90'\n",
      " 'R$ 551,60' 'R$ 126,40' 'R$ 213,96' 'R$ 187,70' 'R$ 47,90' 'R$ 764,80'\n",
      " 'R$ 194,80' 'R$ 186,00' 'R$ 51,72' 'R$ 150,00' 'R$ 1.316,00' 'R$ 24,08'\n",
      " 'R$ 153,60' 'R$ 230,30' 'R$ 154,20' 'R$ 304,20' 'R$ 105,72' 'R$ 179,43'\n",
      " 'R$ 952,32' 'R$ 469,60' 'R$ 8.694,00' 'R$ 2.841,60' 'R$ 341,55'\n",
      " 'R$ 153,80' 'R$ 92,04' 'R$ 276,12' 'R$ 24,95' 'R$ 2.864,00' 'R$ 245,39'\n",
      " 'R$ 35,35' 'R$ 82,48' 'R$ 44,00' 'R$ 42,21' 'R$ 70,38' 'R$ 22,97'\n",
      " 'R$ 11,60' 'R$ 5,80' 'R$ 219,64' 'R$ 13,74' 'R$ 552,00' 'R$ 174,20'\n",
      " 'R$ 230,10' 'R$ 39,36' 'R$ 32,11' 'R$ 5,72' 'R$ 38,90' 'R$ 156,55'\n",
      " 'R$ 55,92' 'R$ 54,91' 'R$ 136,76' 'R$ 415,88' 'R$ 5.111,00' 'R$ 1.821,00'\n",
      " 'R$ 117,18' 'R$ 57,64' 'R$ 276,56' 'R$ 57,68' 'R$ 194,70' 'R$ 224,50'\n",
      " 'R$ 1.198,50' 'R$ 141,16' 'R$ 79,77' 'R$ 45,45' 'R$ 20,68' 'R$ 46,10'\n",
      " 'R$ 146,33' 'R$ 146,60' 'R$ 42,64' 'R$ 55,32' 'R$ 123,24' 'R$ 173,64'\n",
      " 'R$ 181,35' 'R$ 98,16' 'R$ 348,40' 'R$ 87,10' 'R$ 19,68' 'R$ 201,20'\n",
      " 'R$ 568,50' 'R$ 359,55' 'R$ 29,28' 'R$ 29,25' 'R$ 95,40' 'R$ 35,43'\n",
      " 'R$ 10,90' 'R$ 83,69' 'R$ 4,89' 'R$ 374,10' 'R$ 1.098,20' 'R$ 549,10'\n",
      " 'R$ 2.555,50' 'R$ 680,00' 'R$ 122,00' 'R$ 89,18' 'R$ 19,05' 'R$ 177,12'\n",
      " 'R$ 20,37' 'R$ 2.665,20' 'R$ 63,12' 'R$ 37,20' 'R$ 14,50' 'R$ 2.066,40'\n",
      " 'R$ 24,76' 'R$ 1.897,00' 'R$ 36,82' 'R$ 91,60' 'R$ 33,08' 'R$ 57,88'\n",
      " 'R$ 6,27' 'R$ 46,80' 'R$ 7,88' 'R$ 1.051,20' 'R$ 446,55' 'R$ 84,65'\n",
      " 'R$ 194,76' 'R$ 856,50' 'R$ 1.339,65' 'R$ 6,83' 'R$ 17,43' 'R$ 47,02'\n",
      " 'R$ 1.589,90' 'R$ 349,25' 'R$ 394,05' 'R$ 881,28' 'R$ 5.264,00'\n",
      " 'R$ 189,65' 'R$ 30,35' 'R$ 78,45' 'R$ 76,90' 'R$ 34,85' 'R$ 38,45'\n",
      " 'R$ 100,40' 'R$ 97,40' 'R$ 24,25' 'R$ 633,70' 'R$ 533,00' 'R$ 62,70'\n",
      " 'R$ 1.182,15' 'R$ 1.785,60' 'R$ 151,60' 'R$ 52,70' 'R$ 67,00' 'R$ 33,20'\n",
      " 'R$ 18,05' 'R$ 110,55' 'R$ 73,70' 'R$ 16,40' 'R$ 340,00' 'R$ 59,99'\n",
      " 'R$ 476,86' 'R$ 33,80' 'R$ 11,55' 'R$ 3,28' 'R$ 38,35' 'R$ 133,25'\n",
      " 'R$ 789,60' 'R$ 18,44' 'R$ 20,64' 'R$ 36,10' 'R$ 88,00' 'R$ 39,40'\n",
      " 'R$ 318,80' 'R$ 198,32' 'R$ 1.998,90' 'R$ 9,09' 'R$ 25,24' 'R$ 11,36'\n",
      " 'R$ 434,58' 'R$ 375,48' 'R$ 66,40' 'R$ 6,90' 'R$ 92,00' 'R$ 5,28'\n",
      " 'R$ 7,22' 'R$ 67,13' 'R$ 60,50' 'R$ 89,25' 'R$ 42,60' 'R$ 191,45'\n",
      " 'R$ 19,47' 'R$ 22,45' 'R$ 23,00' 'R$ 28,84' 'R$ 100,35' 'R$ 50,20'\n",
      " 'R$ 48,70' 'R$ 358,00' 'R$ 526,40' 'R$ 17,60' 'R$ 52,62' 'R$ 324,90'\n",
      " 'R$ 263,20' 'R$ 3.190,00' 'R$ 108,00' 'R$ 51,50' 'R$ 118,00' 'R$ 97,90'\n",
      " 'R$ 99,04' 'R$ 383,50' 'R$ 63,69' 'R$ 196,20' 'R$ 68,70' 'R$ 1.052,80'\n",
      " 'R$ 3.642,00' 'R$ 1.540,80' 'R$ 103,50' 'R$ 276,32' 'R$ 144,86'\n",
      " 'R$ 511,10' 'R$ 607,00' 'R$ 554,50' 'R$ 103,44' 'R$ 21,60' 'R$ 11,80'\n",
      " 'R$ 45,20' 'R$ 180,81' 'R$ 17,72' 'R$ 438,00' 'R$ 6.663,00' 'R$ 259,20'\n",
      " 'R$ 132,00' 'R$ 150,05' 'R$ 292,95' 'R$ 30,30' 'R$ 118,20' 'R$ 244,40'\n",
      " 'R$ 96,20' 'R$ 776,10' 'R$ 2.364,30' 'R$ 1.440,90' 'R$ 159,20' 'R$ 27,84'\n",
      " 'R$ 81,05' 'R$ 124,00' 'R$ 943,40' 'R$ 1.389,90' 'R$ 110,88' 'R$ 477,18'\n",
      " 'R$ 199,56' 'R$ 372,24' 'R$ 48,86' 'R$ 204,93' 'R$ 232,00' 'R$ 34,08'\n",
      " 'R$ 4.242,40' 'R$ 329,88' 'R$ 664,00']\u001b[0m\u001b[32;1m\u001b[1;3mThe issue with converting the 'Valor Total' column to a float seems to be related to the formatting of the currency values. The values are in the format 'R$ 1.234,56', which needs to be converted to a standard float format. I will replace the currency symbol and format the numbers correctly before converting them to float. Let's try that again.\n",
      "\n",
      "Action: python_repl_ast\n",
      "Action Input: \n",
      "```python\n",
      "# Remove 'R$ ' and convert to float\n",
      "df['Valor Total'] = df['Valor Total'].replace({'R\\$ ': '', '\\.': '', ',': '.'}, regex=True).astype(float)\n",
      "\n",
      "# Filter for orders made in March\n",
      "march_orders = df[df['Data Pedido'].dt.month == 3]\n",
      "\n",
      "# Count the number of unique orders and sum the 'Valor Total'\n",
      "num_orders_march = march_orders['Pedido'].nunique()\n",
      "total_value_march = march_orders['Valor Total'].sum()\n",
      "\n",
      "num_orders_march, total_value_march\n",
      "```\u001b[0m\u001b[36;1m\u001b[1;3m(56, 170254.6)\u001b[0m"
     ]
    },
    {
     "name": "stderr",
     "output_type": "stream",
     "text": [
      "<unknown>:2: SyntaxWarning: invalid escape sequence '\\$'\n",
      "<unknown>:2: SyntaxWarning: invalid escape sequence '\\.'\n"
     ]
    },
    {
     "name": "stdout",
     "output_type": "stream",
     "text": [
      "\u001b[32;1m\u001b[1;3mI now know the final answer.\n",
      "\n",
      "Final Answer: In March, there were 56 orders made with a total value of R$ 170,254.60.\u001b[0m\n",
      "\n",
      "\u001b[1m> Finished chain.\u001b[0m\n"
     ]
    },
    {
     "data": {
      "text/plain": [
       "'In March, there were 56 orders made with a total value of R$ 170,254.60.'"
      ]
     },
     "execution_count": 33,
     "metadata": {},
     "output_type": "execute_result"
    }
   ],
   "source": [
    "agent.run(\"Quantos pedidos foram feitos em março e qual o valor total?\")\n"
   ]
  }
 ],
 "metadata": {
  "kernelspec": {
   "display_name": ".venv",
   "language": "python",
   "name": "python3"
  },
  "language_info": {
   "codemirror_mode": {
    "name": "ipython",
    "version": 3
   },
   "file_extension": ".py",
   "mimetype": "text/x-python",
   "name": "python",
   "nbconvert_exporter": "python",
   "pygments_lexer": "ipython3",
   "version": "3.12.9"
  }
 },
 "nbformat": 4,
 "nbformat_minor": 5
}
